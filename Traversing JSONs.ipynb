{
 "cells": [
  {
   "cell_type": "code",
   "execution_count": 2,
   "id": "e503a888",
   "metadata": {},
   "outputs": [],
   "source": [
    "import requests\n",
    "from config import weather_api_key"
   ]
  },
  {
   "cell_type": "code",
   "execution_count": 4,
   "id": "562aead4",
   "metadata": {},
   "outputs": [],
   "source": [
    "url = \"httyp://api.openweathermap.org/data/2.5/weather?\"\n",
    "city=\"London\""
   ]
  },
  {
   "cell_type": "code",
   "execution_count": null,
   "id": "68340045",
   "metadata": {},
   "outputs": [],
   "source": []
  }
 ],
 "metadata": {
  "kernelspec": {
   "display_name": "PythonData",
   "language": "python",
   "name": "pythondata"
  },
  "language_info": {
   "codemirror_mode": {
    "name": "ipython",
    "version": 3
   },
   "file_extension": ".py",
   "mimetype": "text/x-python",
   "name": "python",
   "nbconvert_exporter": "python",
   "pygments_lexer": "ipython3",
   "version": "3.7.10"
  }
 },
 "nbformat": 4,
 "nbformat_minor": 5
}
